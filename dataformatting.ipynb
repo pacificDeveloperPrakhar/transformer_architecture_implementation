{
  "nbformat": 4,
  "nbformat_minor": 0,
  "metadata": {
    "colab": {
      "provenance": [],
      "authorship_tag": "ABX9TyN2GUw5IroAXam8y9Wls1nB",
      "include_colab_link": true
    },
    "kernelspec": {
      "name": "python3",
      "display_name": "Python 3"
    },
    "language_info": {
      "name": "python"
    }
  },
  "cells": [
    {
      "cell_type": "markdown",
      "metadata": {
        "id": "view-in-github",
        "colab_type": "text"
      },
      "source": [
        "<a href=\"https://colab.research.google.com/github/pacificDeveloperPrakhar/transformer_architecture_implementation/blob/main/dataformatting.ipynb\" target=\"_parent\"><img src=\"https://colab.research.google.com/assets/colab-badge.svg\" alt=\"Open In Colab\"/></a>"
      ]
    },
    {
      "cell_type": "code",
      "source": [
        "# i am reducing the dataset to reduce the computaion usage and training time"
      ],
      "metadata": {
        "id": "8lw5HaDxNG1a"
      },
      "execution_count": 8,
      "outputs": []
    },
    {
      "cell_type": "code",
      "execution_count": 9,
      "metadata": {
        "id": "u-CAdW1OLV1F"
      },
      "outputs": [],
      "source": [
        "import pandas as pd"
      ]
    },
    {
      "cell_type": "code",
      "source": [
        "with open(\"conversations.txt\",\"r\",encoding='utf-8') as file:\n",
        "  text=file.read()"
      ],
      "metadata": {
        "id": "xZaIFOCFLtHE"
      },
      "execution_count": 10,
      "outputs": []
    },
    {
      "cell_type": "code",
      "source": [
        "total_chars=len(text)"
      ],
      "metadata": {
        "id": "h7qoUkNiL30p"
      },
      "execution_count": 23,
      "outputs": []
    },
    {
      "cell_type": "code",
      "source": [
        "total_chars//10"
      ],
      "metadata": {
        "colab": {
          "base_uri": "https://localhost:8080/"
        },
        "id": "oieKiL0KMUAK",
        "outputId": "c918e05c-4f86-497d-f527-7bf68eda90ae"
      },
      "execution_count": 12,
      "outputs": [
        {
          "output_type": "execute_result",
          "data": {
            "text/plain": [
              "405497"
            ]
          },
          "metadata": {},
          "execution_count": 12
        }
      ]
    },
    {
      "cell_type": "code",
      "source": [
        "reduced_text=text[0:(total_chars//6)]"
      ],
      "metadata": {
        "id": "qdbFe5pzM03s"
      },
      "execution_count": 13,
      "outputs": []
    },
    {
      "cell_type": "code",
      "source": [
        "tokens_unique=list(set(reduced_text))\n"
      ],
      "metadata": {
        "id": "Zz-l-NaOM_b7"
      },
      "execution_count": 14,
      "outputs": []
    },
    {
      "cell_type": "code",
      "source": [
        "tokens_unique=\"\".join(sorted(tokens_unique))"
      ],
      "metadata": {
        "id": "2DZNDslKNeN2"
      },
      "execution_count": 15,
      "outputs": []
    },
    {
      "cell_type": "code",
      "source": [
        "tokens_unique"
      ],
      "metadata": {
        "colab": {
          "base_uri": "https://localhost:8080/",
          "height": 36
        },
        "id": "WHO4MoziNnis",
        "outputId": "083a3169-c5e2-4792-d372-c54a53ce3172"
      },
      "execution_count": 16,
      "outputs": [
        {
          "output_type": "execute_result",
          "data": {
            "text/plain": [
              "'\\n !\"#%\\'),-.0123456789:;?ABCDEFGHIJKLMNOPQRSTUVWXYZabcdefghijklmnopqrstuvwxyzé–—’…😉😊'"
            ],
            "application/vnd.google.colaboratory.intrinsic+json": {
              "type": "string"
            }
          },
          "metadata": {},
          "execution_count": 16
        }
      ]
    },
    {
      "cell_type": "code",
      "source": [
        "# now applying the mapping this will be used to encode the text ,this is the simplest encoding"
      ],
      "metadata": {
        "id": "SEEePKgIOrdU"
      },
      "execution_count": 17,
      "outputs": []
    },
    {
      "cell_type": "code",
      "source": [
        "token_numerical_mapping={ch:i for i,ch in enumerate(tokens_unique)}"
      ],
      "metadata": {
        "id": "DOF7K5JEOW4Q"
      },
      "execution_count": 18,
      "outputs": []
    },
    {
      "cell_type": "code",
      "source": [
        "numerical_token_mapping={i:ch for i,ch in enumerate(tokens_unique)}"
      ],
      "metadata": {
        "id": "Gx5h3mQTOiAp"
      },
      "execution_count": 19,
      "outputs": []
    },
    {
      "cell_type": "code",
      "source": [
        "def encode(text):\n",
        "  refined_numeral=[];\n",
        "  for i,ch in enumerate(text):\n",
        "    refined_numeral=refined_numeral+[token_numerical_mapping[ch]]\n",
        "  return refined_numeral"
      ],
      "metadata": {
        "id": "tecLOD7SQIEN"
      },
      "execution_count": 20,
      "outputs": []
    },
    {
      "cell_type": "code",
      "source": [
        "def decode(vector):\n",
        "  refined_text=[]\n",
        "  for i,num in enumerate(vector):\n",
        "    refined_text=refined_text+[numerical_token_mapping[num]]\n",
        "  return \"\".join(refined_text)"
      ],
      "metadata": {
        "id": "2Rzn-mjzRDlT"
      },
      "execution_count": 21,
      "outputs": []
    },
    {
      "cell_type": "code",
      "source": [
        "decode(encode(\"hi how are you doing right now\"))"
      ],
      "metadata": {
        "colab": {
          "base_uri": "https://localhost:8080/",
          "height": 36
        },
        "id": "GladuFtMQPrQ",
        "outputId": "428d0d11-91e9-44e0-bb8d-e3caa82cc6fd"
      },
      "execution_count": 22,
      "outputs": [
        {
          "output_type": "execute_result",
          "data": {
            "text/plain": [
              "'hi how are you doing right now'"
            ],
            "application/vnd.google.colaboratory.intrinsic+json": {
              "type": "string"
            }
          },
          "metadata": {},
          "execution_count": 22
        }
      ]
    },
    {
      "cell_type": "code",
      "source": [
        "len(reduced_text)/1024"
      ],
      "metadata": {
        "colab": {
          "base_uri": "https://localhost:8080/"
        },
        "id": "dAZ3V3sUc3Fp",
        "outputId": "f78e7159-186b-4621-ab90-a1f0edd9ee7a"
      },
      "execution_count": 27,
      "outputs": [
        {
          "output_type": "execute_result",
          "data": {
            "text/plain": [
              "659.9892578125"
            ]
          },
          "metadata": {},
          "execution_count": 27
        }
      ]
    }
  ]
}